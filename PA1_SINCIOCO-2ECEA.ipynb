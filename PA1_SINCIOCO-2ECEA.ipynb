{
 "cells": [
  {
   "cell_type": "code",
   "execution_count": 64,
   "id": "1e645811-02fc-46cb-9ff1-58a1bb4bfe25",
   "metadata": {},
   "outputs": [
    {
     "name": "stdin",
     "output_type": "stream",
     "text": [
      "Enter a Word:  HELLO\n"
     ]
    },
    {
     "name": "stdout",
     "output_type": "stream",
     "text": [
      "EHLLO\n"
     ]
    }
   ],
   "source": [
    "word = []\n",
    "def alphabet_soup(string):\n",
    "    for x in string:\n",
    "        word.append(x) \n",
    "    word.sort()\n",
    "    print (''.join(word))\n",
    "inp = input(\"Enter a Word: \")\n",
    "alphabet_soup(inp)"
   ]
  },
  {
   "cell_type": "code",
   "execution_count": 65,
   "id": "47dbe034-903c-498a-809d-f6f79c81913e",
   "metadata": {},
   "outputs": [
    {
     "name": "stdin",
     "output_type": "stream",
     "text": [
      "Enter a Phrase:  I am Mad\n"
     ]
    },
    {
     "name": "stdout",
     "output_type": "stream",
     "text": [
      "I am >:(\n"
     ]
    }
   ],
   "source": [
    "emojis = {\"Smile\" : \":)\", \"Grin\": \":D\", \"Sad\": \":((\", \"Mad\" : \">:(\"}\n",
    "new = []\n",
    "def emotify(phrase):\n",
    "    words = phrase.split()\n",
    "    for x in words:\n",
    "        if x in emojis:\n",
    "            new.append(emojis.get(x))\n",
    "        else:\n",
    "            new.append(x)\n",
    "    print(' '.join(new))\n",
    "inp = input(\"Enter a Phrase: \")\n",
    "emotify(inp)"
   ]
  },
  {
   "cell_type": "code",
   "execution_count": 72,
   "id": "ed4ceb90-d895-487b-be64-300985e88775",
   "metadata": {},
   "outputs": [
    {
     "name": "stdin",
     "output_type": "stream",
     "text": [
      "Enter Numbers Separated by a Comma:  2,4,3,2,5,4,6,3,1\n"
     ]
    },
    {
     "name": "stdout",
     "output_type": "stream",
     "text": [
      "First: 1      Middle: ['2', '2', '3', '3', '4', '4', '5']      Last: 6\n"
     ]
    }
   ],
   "source": [
    "inp = input(\"Enter Numbers Separated by a Comma: \")\n",
    "list = inp.split(\",\")\n",
    "list.sort()\n",
    "first, *middle, last = list\n",
    "print(\"First:\", first, \"     Middle:\", middle, \"     Last:\", last)\n"
   ]
  },
  {
   "cell_type": "code",
   "execution_count": null,
   "id": "ac1cb021-169e-4790-91b8-1af0ac95d271",
   "metadata": {},
   "outputs": [],
   "source": []
  }
 ],
 "metadata": {
  "kernelspec": {
   "display_name": "Python 3 (ipykernel)",
   "language": "python",
   "name": "python3"
  },
  "language_info": {
   "codemirror_mode": {
    "name": "ipython",
    "version": 3
   },
   "file_extension": ".py",
   "mimetype": "text/x-python",
   "name": "python",
   "nbconvert_exporter": "python",
   "pygments_lexer": "ipython3",
   "version": "3.13.5"
  }
 },
 "nbformat": 4,
 "nbformat_minor": 5
}
